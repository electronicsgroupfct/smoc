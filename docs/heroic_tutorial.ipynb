{
 "cells": [
  {
   "cell_type": "markdown",
   "metadata": {},
   "source": [
    "# Optimization of a common-source circuit using PAIM and ADE-XL\n",
    "\n",
    "This tutorial/guide demonstrates how to use the Python optimizer for Cadence  \n",
    "\n",
    "## Previous notes\n",
    "\n",
    "Suspendisse quis convallis purus, venenatis aliquet erat. Etiam sagittis enim id dolor venenatis, in commodo metus facilisis. Donec ligula neque, vehicula eu nibh sed, suscipit sodales sapien. Nullam eget posuere eros. Mauris accumsan sit amet felis ut posuere. Integer et euismod massa. Nullam vel turpis in turpis tempus lobortis sit amet at lorem. Nunc at risus eros. In feugiat facilisis sapien, a varius augue commodo in. Vestibulum ante ipsum primis in faucibus orci luctus et ultrices posuere cubilia Curae; Proin ut suscipit erat. Morbi ac metus ut odio ornare dignissim. Proin aliquam quis orci ac fermentum. Nunc rhoncus ex vitae ligula eleifend, ut consequat felis molestie. Suspendisse lectus dui, semper in eros id, dapibus porttitor nulla."
   ]
  }
 ],
 "metadata": {
  "kernelspec": {
   "display_name": "Python 3",
   "language": "python",
   "name": "python3"
  },
  "language_info": {
   "codemirror_mode": {
    "name": "ipython",
    "version": 3
   },
   "file_extension": ".py",
   "mimetype": "text/x-python",
   "name": "python",
   "nbconvert_exporter": "python",
   "pygments_lexer": "ipython3",
   "version": "3.6.3"
  }
 },
 "nbformat": 4,
 "nbformat_minor": 2
}
